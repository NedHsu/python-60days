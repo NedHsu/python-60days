{
 "metadata": {
  "language_info": {
   "codemirror_mode": {
    "name": "ipython",
    "version": 3
   },
   "file_extension": ".py",
   "mimetype": "text/x-python",
   "name": "python",
   "nbconvert_exporter": "python",
   "pygments_lexer": "ipython3",
   "version": "3.9.1-final"
  },
  "orig_nbformat": 2,
  "kernelspec": {
   "name": "python3",
   "display_name": "Python 3",
   "language": "python"
  }
 },
 "nbformat": 4,
 "nbformat_minor": 2,
 "cells": [
  {
   "source": [
    "作業目標:<br>\n",
    "了解效能優化方法<br>\n",
    "作業重點:<br>\n",
    "優化有很多面相可以切入，目前可以先以投影片方法為主\n"
   ],
   "cell_type": "markdown",
   "metadata": {}
  },
  {
   "source": [
    "題目<br>\n",
    "\n",
    "1. 在速度較慢的時候，可以先從哪邊開始檢查?<br>\n",
    "\n",
    "```\n",
    "Ans. \n",
    "可以先從資料存取檢查, pkl > hdf > csv >>> xlsx\n",
    "再者盡量使用內建函式\n",
    "向量化的資料處理\n",
    "```\n"
   ],
   "cell_type": "markdown",
   "metadata": {}
  },
  {
   "source": [
    "2. 資料過大時應採取什麼方式讓記憶體占用量下降?\n",
    "\n",
    "```\n",
    "Ans.\n",
    "欄位的型態降級\n",
    "```"
   ],
   "cell_type": "markdown",
   "metadata": {}
  }
 ]
}